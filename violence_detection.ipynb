{
  "nbformat": 4,
  "nbformat_minor": 0,
  "metadata": {
    "colab": {
      "provenance": []
    },
    "kernelspec": {
      "name": "python3",
      "display_name": "Python 3"
    },
    "language_info": {
      "name": "python"
    }
  },
  "cells": [
    {
      "cell_type": "markdown",
      "source": [
        "Libraries"
      ],
      "metadata": {
        "id": "6GghstNaXmED"
      }
    },
    {
      "cell_type": "code",
      "execution_count": null,
      "metadata": {
        "id": "DEJEkvd6XIx6"
      },
      "outputs": [],
      "source": [
        "import os\n",
        "import cv2\n",
        "import numpy as np\n",
        "from sklearn.model_selection import train_test_split\n",
        "from keras.models import Sequential\n",
        "from keras.layers import Conv3D, MaxPooling3D, Flatten, Dense, Dropout"
      ]
    },
    {
      "cell_type": "markdown",
      "source": [
        "constraint"
      ],
      "metadata": {
        "id": "gL8vn6BlXrgt"
      }
    },
    {
      "cell_type": "code",
      "source": [
        "FRAME_WIDTH = 128\n",
        "FRAME_HEIGHT = 128\n",
        "FRAMES_PER_VIDEO = 30\n",
        "NUM_CLASSES = 2  # Violence and Non-Violence\n",
        "EPOCHS = 10\n",
        "BATCH_SIZE = 32"
      ],
      "metadata": {
        "id": "q8IGKFh2XgQO"
      },
      "execution_count": null,
      "outputs": []
    },
    {
      "cell_type": "markdown",
      "source": [
        "data preprocessing mp4"
      ],
      "metadata": {
        "id": "EUwxRM5oXl1e"
      }
    },
    {
      "cell_type": "code",
      "source": [
        "def preprocess_videos(video_dir):\n",
        "    X = []\n",
        "    y = []\n",
        "    for label, category in enumerate(os.listdir(video_dir)):\n",
        "        category_path = os.path.join(video_dir, category)\n",
        "        for video in os.listdir(category_path):\n",
        "            video_path = os.path.join(category_path, video)\n",
        "            frames = []\n",
        "            cap = cv2.VideoCapture(video_path)\n",
        "            while len(frames) < FRAMES_PER_VIDEO:\n",
        "                ret, frame = cap.read()\n",
        "                if not ret:\n",
        "                    break\n",
        "                frame = cv2.resize(frame, (FRAME_WIDTH, FRAME_HEIGHT))\n",
        "                frames.append(frame)\n",
        "            cap.release()\n",
        "            if len(frames) == FRAMES_PER_VIDEO:\n",
        "                X.append(frames)\n",
        "                y.append(label)\n",
        "    return np.array(X), np.array(y)"
      ],
      "metadata": {
        "id": "fJJpAGlYYCAU"
      },
      "execution_count": null,
      "outputs": []
    },
    {
      "cell_type": "markdown",
      "source": [
        "data preprocessing"
      ],
      "metadata": {
        "id": "5n3bqlukYR5f"
      }
    },
    {
      "cell_type": "code",
      "source": [
        "video_dir = '/path/to/your/dataset'\n",
        "X, y = preprocess_videos(video_dir)"
      ],
      "metadata": {
        "id": "ScZnZ67ZYUHV"
      },
      "execution_count": null,
      "outputs": []
    },
    {
      "cell_type": "markdown",
      "source": [
        "splitting data into train and test func"
      ],
      "metadata": {
        "id": "UWq1rozRYW05"
      }
    },
    {
      "cell_type": "code",
      "source": [
        "X_train, X_test, y_train, y_test = train_test_split(X, y, test_size=0.2, random_state=42)"
      ],
      "metadata": {
        "id": "Rpt1a3oHYXKN"
      },
      "execution_count": null,
      "outputs": []
    },
    {
      "cell_type": "markdown",
      "source": [
        "CNN model"
      ],
      "metadata": {
        "id": "ZJq6Auk1YXeA"
      }
    },
    {
      "cell_type": "code",
      "source": [
        "model = Sequential()\n",
        "model.add(Conv3D(32, kernel_size=(3, 3, 3), activation='relu', input_shape=(FRAMES_PER_VIDEO, FRAME_HEIGHT, FRAME_WIDTH, 3)))\n",
        "model.add(MaxPooling3D(pool_size=(2, 2, 2)))\n",
        "model.add(Conv3D(64, kernel_size=(3, 3, 3), activation='relu'))\n",
        "model.add(MaxPooling3D(pool_size=(2, 2, 2)))\n",
        "model.add(Flatten())\n",
        "model.add(Dense(128, activation='relu'))\n",
        "model.add(Dropout(0.5))\n",
        "model.add(Dense(NUM_CLASSES, activation='softmax'))"
      ],
      "metadata": {
        "id": "0XH23JDPYX1L"
      },
      "execution_count": null,
      "outputs": []
    },
    {
      "cell_type": "markdown",
      "source": [],
      "metadata": {
        "id": "G7JuF9EcYYIM"
      }
    },
    {
      "cell_type": "code",
      "source": [
        "model.compile(optimizer='adam', loss='sparse_categorical_crossentropy', metrics=['accuracy'])\n"
      ],
      "metadata": {
        "id": "nPZZAt15YYdN"
      },
      "execution_count": null,
      "outputs": []
    },
    {
      "cell_type": "code",
      "source": [
        "model.fit(X_train, y_train, epochs=EPOCHS, batch_size=BATCH_SIZE, validation_data=(X_test, y_test))"
      ],
      "metadata": {
        "id": "hZHtYpG-Y9HT"
      },
      "execution_count": null,
      "outputs": []
    },
    {
      "cell_type": "code",
      "source": [],
      "metadata": {
        "id": "OJdtBeTPY9OF"
      },
      "execution_count": null,
      "outputs": []
    }
  ]
}